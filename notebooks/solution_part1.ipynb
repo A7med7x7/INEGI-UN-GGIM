{
  "cells": [
    {
      "cell_type": "code",
      "execution_count": 6,
      "metadata": {},
      "outputs": [],
      "source": [
        "#!pip install catboost"
      ]
    },
    {
      "cell_type": "code",
      "execution_count": 7,
      "metadata": {
        "colab": {
          "base_uri": "https://localhost:8080/"
        },
        "id": "XKXHsYkWwpM0",
        "outputId": "82e633c6-c5a7-4b17-9903-1202f44b6e06"
      },
      "outputs": [],
      "source": [
        "import numpy as np\n",
        "import pandas as pd\n",
        "import matplotlib.pyplot as plt\n",
        "import seaborn as sns\n",
        "import warnings\n",
        "warnings.filterwarnings('ignore')\n",
        "from sklearn.preprocessing import *\n",
        "from sklearn.metrics import log_loss, accuracy_score\n",
        "from sklearn.pipeline import Pipeline\n",
        "from sklearn.model_selection import RandomizedSearchCV\n",
        "from sklearn.inspection import permutation_importance\n",
        "from sklearn import set_config\n",
        "from sklearn.preprocessing import LabelEncoder\n",
        "from sklearn.base import BaseEstimator, TransformerMixin\n",
        "from sklearn.linear_model import LogisticRegression\n",
        "from sklearn.impute import SimpleImputer\n",
        "from sklearn.compose import ColumnTransformer\n",
        "from sklearn.pipeline import Pipeline\n",
        "from sklearn.model_selection import cross_val_score\n",
        "from sklearn.decomposition import PCA\n",
        "from sklearn.metrics import log_loss\n",
        "from catboost import CatBoostClassifier\n",
        "from sklearn.ensemble import IsolationForest\n",
        "from sklearn.model_selection import train_test_split \n",
        "from sklearn.metrics import log_loss, make_scorer\n",
        "from sklearn.model_selection import StratifiedKFold, cross_val_score"
      ]
    },
    {
      "cell_type": "code",
      "execution_count": 8,
      "metadata": {
        "id": "jZZCUs9FxUrg"
      },
      "outputs": [],
      "source": [
        "def reading_data(path):\n",
        "    train = pd.read_csv(path + 'Train%20(6).csv')\n",
        "    test = pd.read_csv(path +'Test%20(4).csv')\n",
        "    sub = pd.read_csv(path +'submission%20(5).csv')\n",
        "    id = test['id']\n",
        "\n",
        "    return train,test,sub,id\n",
        "\n",
        "train,test,sub,id = reading_data(path='https://raw.githubusercontent.com/Asmaa6777/Vegetation-Mapping-/main/')\n",
        "\n",
        "X_train = train.copy()\n",
        "X_test = test.copy()\n",
        "X_test = test.drop('id', axis=1)\n",
        "X_train = X_train.drop('Target', axis=1)\n",
        "X_train = X_train.drop('id', axis=1)\n",
        "y_train = train['Target']"
      ]
    },
    {
      "cell_type": "code",
      "execution_count": 9,
      "metadata": {
        "id": "HZMENgjE7fQM"
      },
      "outputs": [],
      "source": [
        "isolation_forest = IsolationForest(contamination=0.1) \n",
        "is_inlier = isolation_forest.fit_predict(X_train) \n",
        "\n",
        "\n",
        "X_train_cleaned = X_train[is_inlier == 1]\n",
        "y_train_cleaned = y_train[is_inlier == 1]\n",
        "\n",
        "le = LabelEncoder()\n",
        "y_train = le.fit_transform(y_train) #not needed\n",
        "X_train, X_valid, y_train, y_valid = train_test_split(\n",
        "    X_train_cleaned , y_train_cleaned, test_size=0.2, random_state=42 )"
      ]
    },
    {
      "cell_type": "code",
      "execution_count": 10,
      "metadata": {
        "colab": {
          "base_uri": "https://localhost:8080/"
        },
        "id": "6yS_x9Os68Mz",
        "outputId": "84a20696-5017-40e5-bd0a-4e903a9185b3"
      },
      "outputs": [
        {
          "name": "stdout",
          "output_type": "stream",
          "text": [
            "0:\tlearn: 3.7379427\ttest: 3.7418986\tbest: 3.7418986 (0)\ttotal: 276ms\tremaining: 2m 17s\n",
            "100:\tlearn: 2.2187134\ttest: 2.2445540\tbest: 2.2445540 (100)\ttotal: 19.7s\tremaining: 1m 17s\n",
            "200:\tlearn: 1.7142579\ttest: 1.7373166\tbest: 1.7373166 (200)\ttotal: 39.4s\tremaining: 58.6s\n",
            "300:\tlearn: 1.3204348\ttest: 1.3449418\tbest: 1.3449418 (300)\ttotal: 1m 3s\tremaining: 42s\n",
            "400:\tlearn: 1.0117881\ttest: 1.0335485\tbest: 1.0335485 (400)\ttotal: 1m 23s\tremaining: 20.6s\n",
            "499:\tlearn: 0.7781919\ttest: 0.7953611\tbest: 0.7953611 (499)\ttotal: 1m 44s\tremaining: 0us\n",
            "\n",
            "bestTest = 0.7953611054\n",
            "bestIteration = 499\n",
            "\n"
          ]
        }
      ],
      "source": [
        "cat = CatBoostClassifier(iterations=500,\n",
        "                           learning_rate=0.1,\n",
        "                           depth=6,\n",
        "                           class_weights=[1] * 45,  \n",
        "                           random_seed=42)\n",
        "\n",
        "\n",
        "cat_modle = cat.fit(X_train_cleaned, y_train_cleaned, eval_set=(X_valid, y_valid), verbose=100)"
      ]
    },
    {
      "cell_type": "code",
      "execution_count": 11,
      "metadata": {
        "id": "1hkPo0Ss2hCt"
      },
      "outputs": [],
      "source": [
        "\n"
      ]
    },
    {
      "cell_type": "code",
      "execution_count": 12,
      "metadata": {
        "colab": {
          "base_uri": "https://localhost:8080/"
        },
        "id": "CLHXGRD-23z1",
        "outputId": "14fb9d3c-6839-450d-bc1f-382d2a8942b5"
      },
      "outputs": [
        {
          "name": "stdout",
          "output_type": "stream",
          "text": [
            "0:\tlearn: 3.7462007\ttest: 3.7599118\tbest: 3.7599118 (0)\ttotal: 191ms\tremaining: 1m 35s\n",
            "100:\tlearn: 2.1492350\ttest: 3.3510936\tbest: 3.3481757 (92)\ttotal: 19.1s\tremaining: 1m 15s\n",
            "200:\tlearn: 1.6211254\ttest: 3.3732750\tbest: 3.3481757 (92)\ttotal: 39.1s\tremaining: 58.1s\n",
            "300:\tlearn: 1.2019724\ttest: 3.4288040\tbest: 3.3481757 (92)\ttotal: 59.1s\tremaining: 39.1s\n",
            "400:\tlearn: 0.8858457\ttest: 3.4816295\tbest: 3.3481757 (92)\ttotal: 1m 18s\tremaining: 19.3s\n",
            "499:\tlearn: 0.6558039\ttest: 3.5350152\tbest: 3.3481757 (92)\ttotal: 1m 36s\tremaining: 0us\n",
            "\n",
            "bestTest = 3.348175683\n",
            "bestIteration = 92\n",
            "\n",
            "Shrink model to first 93 iterations.\n",
            "Average training score: 0.5818\n",
            "Average validation score: 0.0995\n"
          ]
        }
      ],
      "source": [
        "skf = StratifiedKFold(n_splits=5, shuffle=True, random_state=42)\n",
        "\n",
        "X_train_cleaned = X_train_cleaned.reset_index(drop=True)\n",
        "y_train_cleaned = y_train_cleaned.reset_index(drop=True)\n",
        "\n",
        "for train_index, valid_index in skf.split(X_train_cleaned, y_train_cleaned):\n",
        "   \n",
        "    X_train_fold, X_valid_fold = X_train_cleaned.iloc[train_index], X_train_cleaned.iloc[valid_index]\n",
        "    y_train_fold, y_valid_fold = y_train_cleaned.iloc[train_index], y_train_cleaned.iloc[valid_index]\n",
        "cat_model = cat.fit(X_train_fold, y_train_fold, eval_set=(X_valid_fold, y_valid_fold), verbose=100)\n",
        "\n",
        "train_score = cat_model.score(X_train_fold, y_train_fold)\n",
        "valid_score = cat_model.score(X_valid_fold, y_valid_fold)\n",
        "\n",
        "train_results = []\n",
        "valid_results = []\n",
        "\n",
        "train_results.append(train_score)\n",
        "valid_results.append(valid_score)\n",
        "\n",
        "# Print the average scores\n",
        "print(f'Average training score: {np.mean(train_results):.4f}')\n",
        "print(f'Average validation score: {np.mean(valid_results):.4f}')"
      ]
    },
    {
      "cell_type": "code",
      "execution_count": 13,
      "metadata": {
        "colab": {
          "base_uri": "https://localhost:8080/"
        },
        "id": "vZDGqBiF4N-M",
        "outputId": "3fe0fa41-1c81-4dd5-ce30-85f38b70b194"
      },
      "outputs": [
        {
          "name": "stdout",
          "output_type": "stream",
          "text": [
            "0:\tlearn: 3.7493773\ttest: 3.7656130\tbest: 3.7656130 (0)\ttotal: 191ms\tremaining: 1m 35s\n",
            "100:\tlearn: 2.1599853\ttest: 3.3359662\tbest: 3.3312621 (58)\ttotal: 20.4s\tremaining: 1m 20s\n",
            "200:\tlearn: 1.5952820\ttest: 3.3853609\tbest: 3.3312621 (58)\ttotal: 39.1s\tremaining: 58.2s\n",
            "300:\tlearn: 1.1816901\ttest: 3.4365188\tbest: 3.3312621 (58)\ttotal: 58.7s\tremaining: 38.8s\n",
            "400:\tlearn: 0.8705329\ttest: 3.4879882\tbest: 3.3312621 (58)\ttotal: 1m 17s\tremaining: 19.1s\n"
          ]
        }
      ],
      "source": [
        "skf = StratifiedKFold(n_splits=5, shuffle=True, random_state=42)\n",
        "\n",
        "train_results = []\n",
        "valid_results = []\n",
        "\n",
        "X_train_cleaned = X_train_cleaned.reset_index(drop=True)\n",
        "y_train_cleaned = y_train_cleaned.reset_index(drop=True)\n",
        "\n",
        "for train_index, valid_index in skf.split(X_train_cleaned, y_train_cleaned):\n",
        "\n",
        "    X_train_fold, X_valid_fold = X_train_cleaned.iloc[train_index], X_train_cleaned.iloc[valid_index]\n",
        "    y_train_fold, y_valid_fold = y_train_cleaned.iloc[train_index], y_train_cleaned.iloc[valid_index]\n",
        "\n",
        "    num_classes = len(np.unique(y_train_fold))\n",
        "    cat = CatBoostClassifier(iterations=500,\n",
        "                           learning_rate=0.1,\n",
        "                           depth=6,\n",
        "                           class_weights=[1] * 45,\n",
        "                           random_seed=42)\n",
        "\n",
        "    cat_model = cat.fit(X_train_fold, y_train_fold, eval_set=(X_valid_fold, y_valid_fold), verbose=100)\n",
        "    train_score = cat_model.score(X_train_fold, y_train_fold)\n",
        "    valid_score = cat_model.score(X_valid_fold, y_valid_fold)\n",
        "\n",
        "    train_results.append(train_score)\n",
        "    valid_results.append(valid_score)\n",
        "\n",
        "    pred_v = cat_model.predict_proba(X_valid_fold)"
      ]
    },
    {
      "cell_type": "code",
      "execution_count": null,
      "metadata": {
        "colab": {
          "base_uri": "https://localhost:8080/"
        },
        "id": "44j-TdH57sKs",
        "outputId": "627f4a5e-312b-42a0-ffbb-a4e14a0c0342"
      },
      "outputs": [
        {
          "name": "stdout",
          "output_type": "stream",
          "text": [
            "Log Loss: 3.319086199697355\n"
          ]
        }
      ],
      "source": [
        "all_labels = np.unique(y_train_cleaned)\n",
        "\n",
        "log_loss_value = log_loss(y_valid_fold, pred_v, labels=all_labels)\n",
        "print(f\"Log Loss: {log_loss_value}\")\n",
        "# Base Log Loss: 3.332917153288488"
      ]
    },
    {
      "cell_type": "code",
      "execution_count": null,
      "metadata": {
        "colab": {
          "base_uri": "https://localhost:8080/"
        },
        "id": "__56nqgEvZiw",
        "outputId": "67621201-5215-4558-da95-643fad70682a"
      },
      "outputs": [
        {
          "name": "stdout",
          "output_type": "stream",
          "text": [
            "Log Loss: 2.3280822993436807\n"
          ]
        }
      ],
      "source": [
        "pred = cat_modle.predict_proba(X_train_cleaned)\n",
        "# Calculate Log Loss using sklearn\n",
        "log_loss_value = log_loss(y_train_cleaned, pred)\n",
        "print(f\"Log Loss: {log_loss_value}\")\n",
        "# Base Log Loss: 2.4463485779691854"
      ]
    },
    {
      "cell_type": "code",
      "execution_count": null,
      "metadata": {
        "colab": {
          "base_uri": "https://localhost:8080/",
          "height": 472
        },
        "id": "cQ3sQA8quiNG",
        "outputId": "88fd688f-5e6e-4282-9a39-84cb7a163448"
      },
      "outputs": [
        {
          "data": {
            "image/png": "[encoded data removed]",
            "text/plain": [
              "<Figure size 640x480 with 1 Axes>"
            ]
          },
          "metadata": {},
          "output_type": "display_data"
        }
      ],
      "source": [
        "import matplotlib.pyplot as plt\n",
        "\n",
        "plt.hist(predict_proba, bins=30)\n",
        "plt.title(\"Predictions Distribution\")\n",
        "plt.xlabel(\"Predicted Value\")\n",
        "plt.ylabel(\"Frequency\")\n",
        "plt.show()"
      ]
    },
    {
      "cell_type": "code",
      "execution_count": null,
      "metadata": {
        "id": "fgH6RA072OlW"
      },
      "outputs": [],
      "source": [
        "submission = pd.DataFrame({'id': id})\n",
        "columns = [f'Target_{i}' for i in range(125)]\n",
        "submission[columns] = 0.00001\n",
        "\n",
        "y_pred_proba = cat_modle.predict_proba(X_test)\n",
        "\n",
        "for i, class_label in enumerate(cat_modle.classes_):\n",
        "    submission['Target_' + str(class_label)] = y_pred_proba[:, i]\n",
        "\n",
        "submission.to_csv('../submissions/submission_part1.csv', index=False)"
      ]
    }
  ],
  "metadata": {
    "accelerator": "GPU",
    "colab": {
      "gpuType": "T4",
      "provenance": []
    },
    "kernelspec": {
      "display_name": "Python 3",
      "name": "python3"
    },
    "language_info": {
      "codemirror_mode": {
        "name": "ipython",
        "version": 3
      },
      "file_extension": ".py",
      "mimetype": "text/x-python",
      "name": "python",
      "nbconvert_exporter": "python",
      "pygments_lexer": "ipython3",
      "version": "3.12.1"
    }
  },
  "nbformat": 4,
  "nbformat_minor": 0
}

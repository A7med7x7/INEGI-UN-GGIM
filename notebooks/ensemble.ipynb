{
 "cells": [
  {
   "cell_type": "code",
   "execution_count": null,
   "metadata": {},
   "outputs": [],
   "source": [
    "import pandas as pd \n",
    "import numpy as np \n",
    "def get_submission(path): \n",
    "    part1 = pd.read_csv(path + 'sumbission_part1')\n",
    "    part2 = pd.read_csv(path + 'submission_part2')\n",
    "    part3 = pd.read_csv(path + 'submission_part3')\n",
    "\n",
    "    return part1, part2, part3 \n",
    "\n",
    "part1, part2, part3 = get_submission('../submissions/')"
   ]
  }
 ],
 "metadata": {
  "kernelspec": {
   "display_name": "Python 3",
   "language": "python",
   "name": "python3"
  },
  "language_info": {
   "name": "python",
   "version": "3.12.1"
  }
 },
 "nbformat": 4,
 "nbformat_minor": 2
}

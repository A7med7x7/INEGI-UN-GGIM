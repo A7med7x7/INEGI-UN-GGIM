{
 "cells": [
  {
   "cell_type": "markdown",
   "metadata": {},
   "source": [
    "# importing & Set-up\n",
    "#things to try \n",
    "- try different models (classifiers only)\n",
    "- "
   ]
  },
  {
   "cell_type": "code",
   "execution_count": 2,
   "metadata": {},
   "outputs": [],
   "source": [
    "import pandas as pd                                  \n",
    "import numpy as np                                     \n",
    "from lightgbm import LGBMClassifier\n",
    "from sklearn.metrics import mean_squared_error         \n",
    "from sklearn.preprocessing import LabelEncoder         \n",
    "import seaborn as sns\n",
    "import matplotlib.pyplot as plt\n",
    "from statsmodels.graphics.tsaplots import plot_acf\n",
    "from matplotlib import rcParams\n",
    "from statsmodels.tsa.seasonal import seasonal_decompose\n",
    "from sklearn.metrics import log_loss\n",
    "from sklearn.metrics import f1_score,roc_auc_score\n",
    "from sklearn.model_selection import StratifiedGroupKFold,StratifiedKFold\n",
    "from sklearn.decomposition import PCA\n",
    "from sklearn.cluster import KMeans\n",
    "from catboost import CatBoostClassifier\n",
    "import sys, os, contextlib\n",
    "\n",
    "@contextlib.contextmanager\n",
    "def suppress_output(): \n",
    "    with open(os.devnull, 'w') as devnull:\n",
    "        old_stdout = sys.stdout\n",
    "        old_stderr = sys.stderr\n",
    "        sys.stdout = devnull\n",
    "        sys.stderr = devnull\n",
    "        try: \n",
    "            yield\n",
    "        finally: \n",
    "            sys.stdout = old_stdout\n",
    "            sys.stderr = old_stderr\n",
    "\n",
    "class CFG:\n",
    "  data_folder =\"../data/\"\n",
    "\n",
    "def reading_data(path: str) -> pd.DataFrame:\n",
    "  sample = pd.read_csv(path + \"SampleSubmission.csv\")\n",
    "  train = pd.read_csv(path + 'Train.csv')\n",
    "  test = pd.read_csv(path + 'Test.csv')\n",
    "  return sample,train,test\n",
    "\n",
    "sample,train,test = reading_data(CFG.data_folder)\n",
    "sample_id = sample['id']\n",
    "test_id = test['id']\n",
    "train_id = train['id']\n",
    "n_splits = 5\n",
    "gkf = StratifiedGroupKFold(n_splits=n_splits)\n",
    "seed = 7 \n",
    "tiney_fraction = 1e-05\n",
    "\n",
    "#pd.options.display.max_columns = 200\n",
    "\n",
    "misslead = [2, 12, 29, 31, 38, 77, 81, 97, 102, 115, 116, 130, 131, 133, 136, 143,\n",
    "            146, 150, 153, 171, 180, 220, 221, 225, 231, 233, 244, 249, 270, 271, 274,\n",
    "            283, 303, 343, 355, 396, 409, 417, 424, 435, 467, 470, 492, 495, 496, 515, \n",
    "            545, 551, 560, 579, 585, 586, 589, 592, 598, 611, 617, 636, 654, 656, 664, 683,\n",
    "            688, 718, 721, 726, 754, 784, 788, 806, 812, 842, 855, 857, 862, 894, 900, 904,\n",
    "            924, 947, 960, 980, 994, 1011, 1012, 1017, 1020, 1023, 1024, 1025, 1034, 1040, \n",
    "            1045, 1057, 1061, 1081, 1086, 1121, 1122, 1138, 1151, 1156, 1178, 1207, 1211, 1224, \n",
    "            1240, 1243, 1246, 1255, 1262, 1267, 1286, 1302, 1315, 1334, 1336, 1358, 1366, 1367,\n",
    "            1392, 1405, 1427, 1461, 1465, 1474, 1504, 1513, 1517, 1521, 1522, 1530, 1534, 1585, \n",
    "            1587, 1604, 1608, 1614, 1615, 1619, 1625, 1646, 1649, 1652, 1656, 1657, 1665, 1674,\n",
    "            1677, 1708, 1736, 1740, 1795, 1800, 1803, 1807, 1810, 1831, 1845, 1851, 1861, 1869,\n",
    "            1876, 1877, 1886, 1893, 1898, 1900, 1930, 1953, 1954, 1967, 1994, 1999, 2020,2029,\n",
    "            2034, 2050, 2055, 2056, 2065, 2066, 2086, 2095, 2105, 2120, 2122]"
   ]
  },
  {
   "cell_type": "code",
   "execution_count": 3,
   "metadata": {},
   "outputs": [
    {
     "name": "stdout",
     "output_type": "stream",
     "text": [
      "Before :(2123, 43)\n"
     ]
    },
    {
     "name": "stderr",
     "output_type": "stream",
     "text": [
      "/var/folders/4c/h16036bx2ync7wqkqvrl2p1h0000gn/T/ipykernel_11137/613267490.py:2: FutureWarning: DataFrame.fillna with 'method' is deprecated and will raise in a future version. Use obj.ffill() or obj.bfill() instead.\n",
      "  train.fillna(method='ffill',inplace=True)\n",
      "/var/folders/4c/h16036bx2ync7wqkqvrl2p1h0000gn/T/ipykernel_11137/613267490.py:3: FutureWarning: DataFrame.fillna with 'method' is deprecated and will raise in a future version. Use obj.ffill() or obj.bfill() instead.\n",
      "  test.fillna(method='ffill',inplace=True)\n"
     ]
    },
    {
     "data": {
      "text/plain": [
       "\"classes = train['Target'].unique()\\nindices_to_remove = []\\nfor idx in misslead:\\n    target_value = train.loc[idx, 'Target']\\n    other_samples = train[(train['Target'] == target_value) & (train.index != idx)]\\n    if len(other_samples) > 1:\\n        indices_to_remove.append(idx)\\ntrain = train.drop(indices_to_remove)\\ntrain_id = train['id']\\nprint(train.shape)\""
      ]
     },
     "execution_count": 3,
     "metadata": {},
     "output_type": "execute_result"
    }
   ],
   "source": [
    "print(f\"Before :{train.shape}\")\n",
    "train.fillna(method='ffill',inplace=True)\n",
    "test.fillna(method='ffill',inplace=True)\n",
    "#remove bad missleading classes points. \n",
    "\"\"\"classes = train['Target'].unique()\n",
    "indices_to_remove = []\n",
    "for idx in misslead:\n",
    "    target_value = train.loc[idx, 'Target']\n",
    "    other_samples = train[(train['Target'] == target_value) & (train.index != idx)]\n",
    "    if len(other_samples) > 1:\n",
    "        indices_to_remove.append(idx)\n",
    "train = train.drop(indices_to_remove)\n",
    "train_id = train['id']\n",
    "print(train.shape)\"\"\""
   ]
  },
  {
   "cell_type": "code",
   "execution_count": 4,
   "metadata": {},
   "outputs": [],
   "source": [
    "\"\"\"#setup clusters \n",
    "kmeans = KMeans(n_clusters=2)\n",
    "#try different values \n",
    "\n",
    "lat_min, lat_max = 44.92469405, 45.88973369\n",
    "lon_min, lon_max = 8.736496578, 12.59068235\n",
    "\n",
    "num_clusters_lat = 6\n",
    "num_clusters_lon = 6\n",
    "lat_step = (lat_max - lat_min) / num_clusters_lat\n",
    "lon_step = (lon_max - lon_min) / num_clusters_lon\n",
    "def assign_clusters(row, lat_step, lon_step, lat_min, lon_min):\n",
    "    lat_cluster = ((row['LAT2'] - lat_min) / lat_step)\n",
    "    lon_cluster = ((row['LON1'] - lon_min) / lon_step)\n",
    "    return lat_cluster, lon_cluster\n",
    "for dataset in (train, test):\n",
    "    dataset[['lat_cluster', 'lon_cluster']] = dataset.apply(\n",
    "        assign_clusters, axis=1, result_type='expand',\n",
    "        lat_step=lat_step, lon_step=lon_step, lat_min=lat_min, lon_min=lon_min)\"\"\""
   ]
  },
  {
   "cell_type": "code",
   "execution_count": 5,
   "metadata": {},
   "outputs": [],
   "source": [
    "\"\"\"geospatial_columns = ['LAT2', 'LON1', 'ELEV1', 'PEND1']\n",
    "geo_train_data = train[geospatial_columns]\n",
    "geo_test_data = test[geospatial_columns]\n",
    "n_clusters = 10 #try different number here \n",
    "kmeans = KMeans(n_clusters=n_clusters, random_state=seed)\n",
    "train['Spatial_Group'] = kmeans.fit_predict(geo_train_data)\n",
    "test['Spatial_Group'] = kmeans.predict(geo_test_data)\"\"\""
   ]
  },
  {
   "cell_type": "code",
   "execution_count": 6,
   "metadata": {},
   "outputs": [
    {
     "data": {
      "text/plain": [
       "\"predictive_features = ['Spatial_Group','lon_cluster','lat_cluster','NDVI1', 'NDVI2', 'NDVI3', 'NDVI4', 'ELEV1', 'PRECIPAN1', 'TMPMAX1', 'TMPMIN1', 'VHVVR1', 'VVD1', 'VHD1', 'VHVVD1', 'MNDWI1', 'NDTI1','Target']\\nfor df in (train,test):\\n    for col in df.columns: \\n        if col not in predictive_features:\\n            df.drop(columns=[col],inplace=True)\\n\""
      ]
     },
     "execution_count": 6,
     "metadata": {},
     "output_type": "execute_result"
    }
   ],
   "source": [
    "for df in(train,test):\n",
    "    df.drop(columns=['id'], axis=1,inplace=True)\n",
    "    #df['lat_cluster'] = df['lat_cluster'].astype(int)\n",
    "    #df['lon_cluster'] = df['lon_cluster'].astype(int)\n",
    "    #df['cluster'] = df['lon_cluster'] + df['lat_cluster']\n",
    "\n",
    "\"\"\"predictive_features = ['Spatial_Group','lon_cluster','lat_cluster','NDVI1', 'NDVI2', 'NDVI3', 'NDVI4', 'ELEV1', 'PRECIPAN1', 'TMPMAX1', 'TMPMIN1', 'VHVVR1', 'VVD1', 'VHD1', 'VHVVD1', 'MNDWI1', 'NDTI1','Target']\n",
    "for df in (train,test):\n",
    "    for col in df.columns: \n",
    "        if col not in predictive_features:\n",
    "            df.drop(columns=[col],inplace=True)\n",
    "\"\"\"\n",
    "#test_features = [feature for feature in predictive_features if feature != 'Target']\n",
    "#train = train[predictive_features] \n",
    "#test = test[test_features]"
   ]
  },
  {
   "cell_type": "markdown",
   "metadata": {},
   "source": [
    "# validation"
   ]
  },
  {
   "cell_type": "code",
   "execution_count": 7,
   "metadata": {},
   "outputs": [
    {
     "name": "stderr",
     "output_type": "stream",
     "text": [
      "/Users/ahmed/Downloads/computerscience/AI-Compeitions/INEGI-GCIM/vegitiables/lib/python3.11/site-packages/sklearn/model_selection/_split.py:776: UserWarning: The least populated class in y has only 2 members, which is less than n_splits=5.\n",
      "  warnings.warn(\n"
     ]
    },
    {
     "name": "stdout",
     "output_type": "stream",
     "text": [
      "Log Loss: 3.629659876861406\n",
      "Log Loss: 3.7657811296958803\n",
      "Log Loss: 3.7456290429915926\n",
      "Log Loss: 3.661252495331095\n",
      "Log Loss: 3.5584287095124822\n",
      "Mean Log Loss: 3.6721502508784916\n"
     ]
    }
   ],
   "source": [
    "model = CatBoostClassifier(random_state=seed)\n",
    "skf = StratifiedKFold(n_splits=5)\n",
    "\n",
    "def validate(trainset, testset, target_col, unique_classes):\n",
    "    with suppress_output(): \n",
    "        model.fit(trainset.drop(columns=[target_col]), trainset[target_col])\n",
    "    y_predicted = model.predict_proba(testset.drop(columns=[target_col]))  \n",
    "    valid_idx = testset[target_col].notna()\n",
    "    valid_testset = testset[target_col][valid_idx]\n",
    "    valid_pred = y_predicted[valid_idx]\n",
    "    score = log_loss(valid_testset, valid_pred, labels=unique_classes)\n",
    "    print(f\"Log Loss: {score}\")\n",
    "    return score\n",
    "\n",
    "unique_classes = np.sort(train['Target'].unique())  \n",
    "scores = []\n",
    "\n",
    "for train_index, test_index in skf.split(train.drop(columns='Target'), train['Target']): \n",
    "    train_v, test_v = train.iloc[train_index], train.iloc[test_index]\n",
    "    score = validate(trainset=train_v, testset=test_v, target_col='Target', unique_classes=unique_classes)\n",
    "    scores.append(score)\n",
    "\n",
    "print(f'Mean Log Loss: {np.mean(scores)}')\n",
    "value  = np.array(scores).mean()"
   ]
  },
  {
   "cell_type": "code",
   "execution_count": 8,
   "metadata": {},
   "outputs": [
    {
     "data": {
      "text/plain": [
       "'from sklearn.ensemble import GradientBoostingClassifier\\nfrom sklearn.metrics import log_loss\\nfrom sklearn.model_selection import StratifiedGroupKFold\\nfrom sklearn.preprocessing import LabelEncoder\\nimport xgboost as xgb\\n\\nmodel_weights = {\\'lgbm\\': 0.3, \\'xgb\\': 0.5, \\'knn\\': 0.2}  #try different number here \\n\\nlgbm_model = GradientBoostingClassifier()  \\nxgb_model = xgb.XGBClassifier(use_label_encoder=False, eval_metric=\\'mlogloss\\')\\nknn_model = KNeighborsClassifier()\\n\\ndef validate(trainset, testset, target_col, unique_classes):\\n    with suppress_output():\\n       \\n        lgbm_model.fit(trainset.drop(columns=[target_col]), trainset[target_col])\\n        xgb_model.fit(trainset.drop(columns=[target_col]), trainset[target_col])\\n        knn_model.fit(trainset.drop(columns=[target_col]), trainset[target_col])\\n    \\n    y_pred_lgbm = lgbm_model.predict_proba(testset.drop(columns=[target_col]))\\n    y_pred_xgb = xgb_model.predict_proba(testset.drop(columns=[target_col]))\\n    y_pred_knn = knn_model.predict_proba(testset.drop(columns=[target_col]))\\n    \\n    y_pred_weighted = (model_weights[\\'lgbm\\'] * y_pred_lgbm +\\n                       model_weights[\\'xgb\\'] * y_pred_xgb +\\n                       model_weights[\\'knn\\'] * y_pred_knn)\\n    \\n    valid_idx = testset[target_col].notna()\\n    valid_testset = testset[target_col][valid_idx]\\n    valid_pred = y_pred_weighted[valid_idx]\\n    \\n    score = log_loss(valid_testset, valid_pred, labels=unique_classes)\\n    print(f\"Log Loss: {score}\")\\n    return score\\n\\nle = LabelEncoder()\\ntrain[\\'Target\\'] = le.fit_transform(train[\\'Target\\'])\\n\\nunique_classes = np.sort(train[\\'Target\\'].unique()) \\n\\ngkf = StratifiedKFold(n_splits=5)\\n\\nscores = []\\nfor train_index, test_index in gkf.split(train.drop(columns=\\'Target\\'), train[\\'Target\\']): \\n    train_v, test_v = train.iloc[train_index], train.iloc[test_index]\\n    score = validate(trainset=train_v, testset=test_v, target_col=\\'Target\\', unique_classes=unique_classes)\\n    scores.append(score)\\nvalue  = np.array(scores).mean()\\nprint(f\\'Mean Log Loss: {np.mean(scores)}\\')\\n'"
      ]
     },
     "execution_count": 8,
     "metadata": {},
     "output_type": "execute_result"
    }
   ],
   "source": [
    "\"\"\"from sklearn.ensemble import GradientBoostingClassifier\n",
    "from sklearn.metrics import log_loss\n",
    "from sklearn.model_selection import StratifiedGroupKFold\n",
    "from sklearn.preprocessing import LabelEncoder\n",
    "import xgboost as xgb\n",
    "\n",
    "model_weights = {'lgbm': 0.3, 'xgb': 0.5, 'knn': 0.2}  #try different number here \n",
    "\n",
    "lgbm_model = GradientBoostingClassifier()  \n",
    "xgb_model = xgb.XGBClassifier(use_label_encoder=False, eval_metric='mlogloss')\n",
    "knn_model = KNeighborsClassifier()\n",
    "\n",
    "def validate(trainset, testset, target_col, unique_classes):\n",
    "    with suppress_output():\n",
    "       \n",
    "        lgbm_model.fit(trainset.drop(columns=[target_col]), trainset[target_col])\n",
    "        xgb_model.fit(trainset.drop(columns=[target_col]), trainset[target_col])\n",
    "        knn_model.fit(trainset.drop(columns=[target_col]), trainset[target_col])\n",
    "    \n",
    "    y_pred_lgbm = lgbm_model.predict_proba(testset.drop(columns=[target_col]))\n",
    "    y_pred_xgb = xgb_model.predict_proba(testset.drop(columns=[target_col]))\n",
    "    y_pred_knn = knn_model.predict_proba(testset.drop(columns=[target_col]))\n",
    "    \n",
    "    y_pred_weighted = (model_weights['lgbm'] * y_pred_lgbm +\n",
    "                       model_weights['xgb'] * y_pred_xgb +\n",
    "                       model_weights['knn'] * y_pred_knn)\n",
    "    \n",
    "    valid_idx = testset[target_col].notna()\n",
    "    valid_testset = testset[target_col][valid_idx]\n",
    "    valid_pred = y_pred_weighted[valid_idx]\n",
    "    \n",
    "    score = log_loss(valid_testset, valid_pred, labels=unique_classes)\n",
    "    print(f\"Log Loss: {score}\")\n",
    "    return score\n",
    "\n",
    "le = LabelEncoder()\n",
    "train['Target'] = le.fit_transform(train['Target'])\n",
    "\n",
    "unique_classes = np.sort(train['Target'].unique()) \n",
    "\n",
    "gkf = StratifiedKFold(n_splits=5)\n",
    "\n",
    "scores = []\n",
    "for train_index, test_index in gkf.split(train.drop(columns='Target'), train['Target']): \n",
    "    train_v, test_v = train.iloc[train_index], train.iloc[test_index]\n",
    "    score = validate(trainset=train_v, testset=test_v, target_col='Target', unique_classes=unique_classes)\n",
    "    scores.append(score)\n",
    "value  = np.array(scores).mean()\n",
    "print(f'Mean Log Loss: {np.mean(scores)}')\n",
    "\"\"\""
   ]
  },
  {
   "cell_type": "code",
   "execution_count": 9,
   "metadata": {},
   "outputs": [
    {
     "data": {
      "text/plain": [
       "3.6721502508784916"
      ]
     },
     "execution_count": 9,
     "metadata": {},
     "output_type": "execute_result"
    }
   ],
   "source": [
    "value"
   ]
  },
  {
   "cell_type": "code",
   "execution_count": 10,
   "metadata": {},
   "outputs": [
    {
     "name": "stderr",
     "output_type": "stream",
     "text": [
      "/var/folders/4c/h16036bx2ync7wqkqvrl2p1h0000gn/T/ipykernel_11137/2290666813.py:23: PerformanceWarning: DataFrame is highly fragmented.  This is usually the result of calling `frame.insert` many times, which has poor performance.  Consider joining all columns at once using pd.concat(axis=1) instead. To get a de-fragmented frame, use `newframe = frame.copy()`\n",
      "  sub_df[col] = 0.001  # Set a small value instead of zero\n",
      "/var/folders/4c/h16036bx2ync7wqkqvrl2p1h0000gn/T/ipykernel_11137/2290666813.py:23: PerformanceWarning: DataFrame is highly fragmented.  This is usually the result of calling `frame.insert` many times, which has poor performance.  Consider joining all columns at once using pd.concat(axis=1) instead. To get a de-fragmented frame, use `newframe = frame.copy()`\n",
      "  sub_df[col] = 0.001  # Set a small value instead of zero\n",
      "/var/folders/4c/h16036bx2ync7wqkqvrl2p1h0000gn/T/ipykernel_11137/2290666813.py:23: PerformanceWarning: DataFrame is highly fragmented.  This is usually the result of calling `frame.insert` many times, which has poor performance.  Consider joining all columns at once using pd.concat(axis=1) instead. To get a de-fragmented frame, use `newframe = frame.copy()`\n",
      "  sub_df[col] = 0.001  # Set a small value instead of zero\n",
      "/var/folders/4c/h16036bx2ync7wqkqvrl2p1h0000gn/T/ipykernel_11137/2290666813.py:23: PerformanceWarning: DataFrame is highly fragmented.  This is usually the result of calling `frame.insert` many times, which has poor performance.  Consider joining all columns at once using pd.concat(axis=1) instead. To get a de-fragmented frame, use `newframe = frame.copy()`\n",
      "  sub_df[col] = 0.001  # Set a small value instead of zero\n",
      "/var/folders/4c/h16036bx2ync7wqkqvrl2p1h0000gn/T/ipykernel_11137/2290666813.py:23: PerformanceWarning: DataFrame is highly fragmented.  This is usually the result of calling `frame.insert` many times, which has poor performance.  Consider joining all columns at once using pd.concat(axis=1) instead. To get a de-fragmented frame, use `newframe = frame.copy()`\n",
      "  sub_df[col] = 0.001  # Set a small value instead of zero\n",
      "/var/folders/4c/h16036bx2ync7wqkqvrl2p1h0000gn/T/ipykernel_11137/2290666813.py:23: PerformanceWarning: DataFrame is highly fragmented.  This is usually the result of calling `frame.insert` many times, which has poor performance.  Consider joining all columns at once using pd.concat(axis=1) instead. To get a de-fragmented frame, use `newframe = frame.copy()`\n",
      "  sub_df[col] = 0.001  # Set a small value instead of zero\n",
      "/var/folders/4c/h16036bx2ync7wqkqvrl2p1h0000gn/T/ipykernel_11137/2290666813.py:23: PerformanceWarning: DataFrame is highly fragmented.  This is usually the result of calling `frame.insert` many times, which has poor performance.  Consider joining all columns at once using pd.concat(axis=1) instead. To get a de-fragmented frame, use `newframe = frame.copy()`\n",
      "  sub_df[col] = 0.001  # Set a small value instead of zero\n",
      "/var/folders/4c/h16036bx2ync7wqkqvrl2p1h0000gn/T/ipykernel_11137/2290666813.py:23: PerformanceWarning: DataFrame is highly fragmented.  This is usually the result of calling `frame.insert` many times, which has poor performance.  Consider joining all columns at once using pd.concat(axis=1) instead. To get a de-fragmented frame, use `newframe = frame.copy()`\n",
      "  sub_df[col] = 0.001  # Set a small value instead of zero\n",
      "/var/folders/4c/h16036bx2ync7wqkqvrl2p1h0000gn/T/ipykernel_11137/2290666813.py:23: PerformanceWarning: DataFrame is highly fragmented.  This is usually the result of calling `frame.insert` many times, which has poor performance.  Consider joining all columns at once using pd.concat(axis=1) instead. To get a de-fragmented frame, use `newframe = frame.copy()`\n",
      "  sub_df[col] = 0.001  # Set a small value instead of zero\n",
      "/var/folders/4c/h16036bx2ync7wqkqvrl2p1h0000gn/T/ipykernel_11137/2290666813.py:23: PerformanceWarning: DataFrame is highly fragmented.  This is usually the result of calling `frame.insert` many times, which has poor performance.  Consider joining all columns at once using pd.concat(axis=1) instead. To get a de-fragmented frame, use `newframe = frame.copy()`\n",
      "  sub_df[col] = 0.001  # Set a small value instead of zero\n",
      "/var/folders/4c/h16036bx2ync7wqkqvrl2p1h0000gn/T/ipykernel_11137/2290666813.py:23: PerformanceWarning: DataFrame is highly fragmented.  This is usually the result of calling `frame.insert` many times, which has poor performance.  Consider joining all columns at once using pd.concat(axis=1) instead. To get a de-fragmented frame, use `newframe = frame.copy()`\n",
      "  sub_df[col] = 0.001  # Set a small value instead of zero\n",
      "/var/folders/4c/h16036bx2ync7wqkqvrl2p1h0000gn/T/ipykernel_11137/2290666813.py:23: PerformanceWarning: DataFrame is highly fragmented.  This is usually the result of calling `frame.insert` many times, which has poor performance.  Consider joining all columns at once using pd.concat(axis=1) instead. To get a de-fragmented frame, use `newframe = frame.copy()`\n",
      "  sub_df[col] = 0.001  # Set a small value instead of zero\n",
      "/var/folders/4c/h16036bx2ync7wqkqvrl2p1h0000gn/T/ipykernel_11137/2290666813.py:23: PerformanceWarning: DataFrame is highly fragmented.  This is usually the result of calling `frame.insert` many times, which has poor performance.  Consider joining all columns at once using pd.concat(axis=1) instead. To get a de-fragmented frame, use `newframe = frame.copy()`\n",
      "  sub_df[col] = 0.001  # Set a small value instead of zero\n",
      "/var/folders/4c/h16036bx2ync7wqkqvrl2p1h0000gn/T/ipykernel_11137/2290666813.py:23: PerformanceWarning: DataFrame is highly fragmented.  This is usually the result of calling `frame.insert` many times, which has poor performance.  Consider joining all columns at once using pd.concat(axis=1) instead. To get a de-fragmented frame, use `newframe = frame.copy()`\n",
      "  sub_df[col] = 0.001  # Set a small value instead of zero\n",
      "/var/folders/4c/h16036bx2ync7wqkqvrl2p1h0000gn/T/ipykernel_11137/2290666813.py:23: PerformanceWarning: DataFrame is highly fragmented.  This is usually the result of calling `frame.insert` many times, which has poor performance.  Consider joining all columns at once using pd.concat(axis=1) instead. To get a de-fragmented frame, use `newframe = frame.copy()`\n",
      "  sub_df[col] = 0.001  # Set a small value instead of zero\n",
      "/var/folders/4c/h16036bx2ync7wqkqvrl2p1h0000gn/T/ipykernel_11137/2290666813.py:23: PerformanceWarning: DataFrame is highly fragmented.  This is usually the result of calling `frame.insert` many times, which has poor performance.  Consider joining all columns at once using pd.concat(axis=1) instead. To get a de-fragmented frame, use `newframe = frame.copy()`\n",
      "  sub_df[col] = 0.001  # Set a small value instead of zero\n",
      "/var/folders/4c/h16036bx2ync7wqkqvrl2p1h0000gn/T/ipykernel_11137/2290666813.py:23: PerformanceWarning: DataFrame is highly fragmented.  This is usually the result of calling `frame.insert` many times, which has poor performance.  Consider joining all columns at once using pd.concat(axis=1) instead. To get a de-fragmented frame, use `newframe = frame.copy()`\n",
      "  sub_df[col] = 0.001  # Set a small value instead of zero\n",
      "/var/folders/4c/h16036bx2ync7wqkqvrl2p1h0000gn/T/ipykernel_11137/2290666813.py:23: PerformanceWarning: DataFrame is highly fragmented.  This is usually the result of calling `frame.insert` many times, which has poor performance.  Consider joining all columns at once using pd.concat(axis=1) instead. To get a de-fragmented frame, use `newframe = frame.copy()`\n",
      "  sub_df[col] = 0.001  # Set a small value instead of zero\n",
      "/var/folders/4c/h16036bx2ync7wqkqvrl2p1h0000gn/T/ipykernel_11137/2290666813.py:23: PerformanceWarning: DataFrame is highly fragmented.  This is usually the result of calling `frame.insert` many times, which has poor performance.  Consider joining all columns at once using pd.concat(axis=1) instead. To get a de-fragmented frame, use `newframe = frame.copy()`\n",
      "  sub_df[col] = 0.001  # Set a small value instead of zero\n",
      "/var/folders/4c/h16036bx2ync7wqkqvrl2p1h0000gn/T/ipykernel_11137/2290666813.py:23: PerformanceWarning: DataFrame is highly fragmented.  This is usually the result of calling `frame.insert` many times, which has poor performance.  Consider joining all columns at once using pd.concat(axis=1) instead. To get a de-fragmented frame, use `newframe = frame.copy()`\n",
      "  sub_df[col] = 0.001  # Set a small value instead of zero\n",
      "/var/folders/4c/h16036bx2ync7wqkqvrl2p1h0000gn/T/ipykernel_11137/2290666813.py:23: PerformanceWarning: DataFrame is highly fragmented.  This is usually the result of calling `frame.insert` many times, which has poor performance.  Consider joining all columns at once using pd.concat(axis=1) instead. To get a de-fragmented frame, use `newframe = frame.copy()`\n",
      "  sub_df[col] = 0.001  # Set a small value instead of zero\n",
      "/var/folders/4c/h16036bx2ync7wqkqvrl2p1h0000gn/T/ipykernel_11137/2290666813.py:23: PerformanceWarning: DataFrame is highly fragmented.  This is usually the result of calling `frame.insert` many times, which has poor performance.  Consider joining all columns at once using pd.concat(axis=1) instead. To get a de-fragmented frame, use `newframe = frame.copy()`\n",
      "  sub_df[col] = 0.001  # Set a small value instead of zero\n",
      "/var/folders/4c/h16036bx2ync7wqkqvrl2p1h0000gn/T/ipykernel_11137/2290666813.py:23: PerformanceWarning: DataFrame is highly fragmented.  This is usually the result of calling `frame.insert` many times, which has poor performance.  Consider joining all columns at once using pd.concat(axis=1) instead. To get a de-fragmented frame, use `newframe = frame.copy()`\n",
      "  sub_df[col] = 0.001  # Set a small value instead of zero\n",
      "/var/folders/4c/h16036bx2ync7wqkqvrl2p1h0000gn/T/ipykernel_11137/2290666813.py:23: PerformanceWarning: DataFrame is highly fragmented.  This is usually the result of calling `frame.insert` many times, which has poor performance.  Consider joining all columns at once using pd.concat(axis=1) instead. To get a de-fragmented frame, use `newframe = frame.copy()`\n",
      "  sub_df[col] = 0.001  # Set a small value instead of zero\n",
      "/var/folders/4c/h16036bx2ync7wqkqvrl2p1h0000gn/T/ipykernel_11137/2290666813.py:23: PerformanceWarning: DataFrame is highly fragmented.  This is usually the result of calling `frame.insert` many times, which has poor performance.  Consider joining all columns at once using pd.concat(axis=1) instead. To get a de-fragmented frame, use `newframe = frame.copy()`\n",
      "  sub_df[col] = 0.001  # Set a small value instead of zero\n",
      "/var/folders/4c/h16036bx2ync7wqkqvrl2p1h0000gn/T/ipykernel_11137/2290666813.py:23: PerformanceWarning: DataFrame is highly fragmented.  This is usually the result of calling `frame.insert` many times, which has poor performance.  Consider joining all columns at once using pd.concat(axis=1) instead. To get a de-fragmented frame, use `newframe = frame.copy()`\n",
      "  sub_df[col] = 0.001  # Set a small value instead of zero\n",
      "/var/folders/4c/h16036bx2ync7wqkqvrl2p1h0000gn/T/ipykernel_11137/2290666813.py:23: PerformanceWarning: DataFrame is highly fragmented.  This is usually the result of calling `frame.insert` many times, which has poor performance.  Consider joining all columns at once using pd.concat(axis=1) instead. To get a de-fragmented frame, use `newframe = frame.copy()`\n",
      "  sub_df[col] = 0.001  # Set a small value instead of zero\n"
     ]
    }
   ],
   "source": [
    "with suppress_output(): \n",
    "    model.fit(train.drop(columns='Target'), train['Target'])\n",
    "\n",
    "# Get predicted probabilities\n",
    "y_pred = model.predict_proba(test)\n",
    "\n",
    "# Ensure that probabilities are never exactly 0 or 1 (for log loss stability)\n",
    "# Clip probabilities to avoid zeros and ones\n",
    "y_pred = np.clip(y_pred, 0.001, 0.999)\n",
    "\n",
    "# Create a DataFrame for the submission\n",
    "class_labels = [f\"Target{i}\" for i in range(y_pred.shape[1])]\n",
    "sub_df = pd.DataFrame(y_pred, columns=class_labels)\n",
    "\n",
    "# Add the 'id' column\n",
    "sub_df['id'] = test_id\n",
    "sub_df = sub_df[['id'] + class_labels]\n",
    "\n",
    "# Handle missing columns (if any class labels are missing)\n",
    "all_target_labels = [f\"Target_{i}\" for i in range(125)] \n",
    "for col in all_target_labels:\n",
    "    if col not in sub_df.columns:\n",
    "        sub_df[col] = 0.001  # Set a small value instead of zero\n",
    "\n",
    "# Save submission file\n",
    "sub_df.to_csv(f\"../submissions/submission{value}.csv\", index=False)\n",
    "#cliped probability."
   ]
  },
  {
   "cell_type": "code",
   "execution_count": null,
   "metadata": {},
   "outputs": [
    {
     "name": "stderr",
     "output_type": "stream",
     "text": [
      "/var/folders/4c/h16036bx2ync7wqkqvrl2p1h0000gn/T/ipykernel_66516/467898307.py:15: PerformanceWarning: DataFrame is highly fragmented.  This is usually the result of calling `frame.insert` many times, which has poor performance.  Consider joining all columns at once using pd.concat(axis=1) instead. To get a de-fragmented frame, use `newframe = frame.copy()`\n",
      "  sub_df[col] = 0\n",
      "/var/folders/4c/h16036bx2ync7wqkqvrl2p1h0000gn/T/ipykernel_66516/467898307.py:15: PerformanceWarning: DataFrame is highly fragmented.  This is usually the result of calling `frame.insert` many times, which has poor performance.  Consider joining all columns at once using pd.concat(axis=1) instead. To get a de-fragmented frame, use `newframe = frame.copy()`\n",
      "  sub_df[col] = 0\n",
      "/var/folders/4c/h16036bx2ync7wqkqvrl2p1h0000gn/T/ipykernel_66516/467898307.py:15: PerformanceWarning: DataFrame is highly fragmented.  This is usually the result of calling `frame.insert` many times, which has poor performance.  Consider joining all columns at once using pd.concat(axis=1) instead. To get a de-fragmented frame, use `newframe = frame.copy()`\n",
      "  sub_df[col] = 0\n",
      "/var/folders/4c/h16036bx2ync7wqkqvrl2p1h0000gn/T/ipykernel_66516/467898307.py:15: PerformanceWarning: DataFrame is highly fragmented.  This is usually the result of calling `frame.insert` many times, which has poor performance.  Consider joining all columns at once using pd.concat(axis=1) instead. To get a de-fragmented frame, use `newframe = frame.copy()`\n",
      "  sub_df[col] = 0\n",
      "/var/folders/4c/h16036bx2ync7wqkqvrl2p1h0000gn/T/ipykernel_66516/467898307.py:15: PerformanceWarning: DataFrame is highly fragmented.  This is usually the result of calling `frame.insert` many times, which has poor performance.  Consider joining all columns at once using pd.concat(axis=1) instead. To get a de-fragmented frame, use `newframe = frame.copy()`\n",
      "  sub_df[col] = 0\n",
      "/var/folders/4c/h16036bx2ync7wqkqvrl2p1h0000gn/T/ipykernel_66516/467898307.py:15: PerformanceWarning: DataFrame is highly fragmented.  This is usually the result of calling `frame.insert` many times, which has poor performance.  Consider joining all columns at once using pd.concat(axis=1) instead. To get a de-fragmented frame, use `newframe = frame.copy()`\n",
      "  sub_df[col] = 0\n",
      "/var/folders/4c/h16036bx2ync7wqkqvrl2p1h0000gn/T/ipykernel_66516/467898307.py:15: PerformanceWarning: DataFrame is highly fragmented.  This is usually the result of calling `frame.insert` many times, which has poor performance.  Consider joining all columns at once using pd.concat(axis=1) instead. To get a de-fragmented frame, use `newframe = frame.copy()`\n",
      "  sub_df[col] = 0\n",
      "/var/folders/4c/h16036bx2ync7wqkqvrl2p1h0000gn/T/ipykernel_66516/467898307.py:15: PerformanceWarning: DataFrame is highly fragmented.  This is usually the result of calling `frame.insert` many times, which has poor performance.  Consider joining all columns at once using pd.concat(axis=1) instead. To get a de-fragmented frame, use `newframe = frame.copy()`\n",
      "  sub_df[col] = 0\n",
      "/var/folders/4c/h16036bx2ync7wqkqvrl2p1h0000gn/T/ipykernel_66516/467898307.py:15: PerformanceWarning: DataFrame is highly fragmented.  This is usually the result of calling `frame.insert` many times, which has poor performance.  Consider joining all columns at once using pd.concat(axis=1) instead. To get a de-fragmented frame, use `newframe = frame.copy()`\n",
      "  sub_df[col] = 0\n",
      "/var/folders/4c/h16036bx2ync7wqkqvrl2p1h0000gn/T/ipykernel_66516/467898307.py:15: PerformanceWarning: DataFrame is highly fragmented.  This is usually the result of calling `frame.insert` many times, which has poor performance.  Consider joining all columns at once using pd.concat(axis=1) instead. To get a de-fragmented frame, use `newframe = frame.copy()`\n",
      "  sub_df[col] = 0\n",
      "/var/folders/4c/h16036bx2ync7wqkqvrl2p1h0000gn/T/ipykernel_66516/467898307.py:15: PerformanceWarning: DataFrame is highly fragmented.  This is usually the result of calling `frame.insert` many times, which has poor performance.  Consider joining all columns at once using pd.concat(axis=1) instead. To get a de-fragmented frame, use `newframe = frame.copy()`\n",
      "  sub_df[col] = 0\n",
      "/var/folders/4c/h16036bx2ync7wqkqvrl2p1h0000gn/T/ipykernel_66516/467898307.py:15: PerformanceWarning: DataFrame is highly fragmented.  This is usually the result of calling `frame.insert` many times, which has poor performance.  Consider joining all columns at once using pd.concat(axis=1) instead. To get a de-fragmented frame, use `newframe = frame.copy()`\n",
      "  sub_df[col] = 0\n",
      "/var/folders/4c/h16036bx2ync7wqkqvrl2p1h0000gn/T/ipykernel_66516/467898307.py:15: PerformanceWarning: DataFrame is highly fragmented.  This is usually the result of calling `frame.insert` many times, which has poor performance.  Consider joining all columns at once using pd.concat(axis=1) instead. To get a de-fragmented frame, use `newframe = frame.copy()`\n",
      "  sub_df[col] = 0\n",
      "/var/folders/4c/h16036bx2ync7wqkqvrl2p1h0000gn/T/ipykernel_66516/467898307.py:15: PerformanceWarning: DataFrame is highly fragmented.  This is usually the result of calling `frame.insert` many times, which has poor performance.  Consider joining all columns at once using pd.concat(axis=1) instead. To get a de-fragmented frame, use `newframe = frame.copy()`\n",
      "  sub_df[col] = 0\n",
      "/var/folders/4c/h16036bx2ync7wqkqvrl2p1h0000gn/T/ipykernel_66516/467898307.py:15: PerformanceWarning: DataFrame is highly fragmented.  This is usually the result of calling `frame.insert` many times, which has poor performance.  Consider joining all columns at once using pd.concat(axis=1) instead. To get a de-fragmented frame, use `newframe = frame.copy()`\n",
      "  sub_df[col] = 0\n",
      "/var/folders/4c/h16036bx2ync7wqkqvrl2p1h0000gn/T/ipykernel_66516/467898307.py:15: PerformanceWarning: DataFrame is highly fragmented.  This is usually the result of calling `frame.insert` many times, which has poor performance.  Consider joining all columns at once using pd.concat(axis=1) instead. To get a de-fragmented frame, use `newframe = frame.copy()`\n",
      "  sub_df[col] = 0\n",
      "/var/folders/4c/h16036bx2ync7wqkqvrl2p1h0000gn/T/ipykernel_66516/467898307.py:15: PerformanceWarning: DataFrame is highly fragmented.  This is usually the result of calling `frame.insert` many times, which has poor performance.  Consider joining all columns at once using pd.concat(axis=1) instead. To get a de-fragmented frame, use `newframe = frame.copy()`\n",
      "  sub_df[col] = 0\n",
      "/var/folders/4c/h16036bx2ync7wqkqvrl2p1h0000gn/T/ipykernel_66516/467898307.py:15: PerformanceWarning: DataFrame is highly fragmented.  This is usually the result of calling `frame.insert` many times, which has poor performance.  Consider joining all columns at once using pd.concat(axis=1) instead. To get a de-fragmented frame, use `newframe = frame.copy()`\n",
      "  sub_df[col] = 0\n",
      "/var/folders/4c/h16036bx2ync7wqkqvrl2p1h0000gn/T/ipykernel_66516/467898307.py:15: PerformanceWarning: DataFrame is highly fragmented.  This is usually the result of calling `frame.insert` many times, which has poor performance.  Consider joining all columns at once using pd.concat(axis=1) instead. To get a de-fragmented frame, use `newframe = frame.copy()`\n",
      "  sub_df[col] = 0\n",
      "/var/folders/4c/h16036bx2ync7wqkqvrl2p1h0000gn/T/ipykernel_66516/467898307.py:15: PerformanceWarning: DataFrame is highly fragmented.  This is usually the result of calling `frame.insert` many times, which has poor performance.  Consider joining all columns at once using pd.concat(axis=1) instead. To get a de-fragmented frame, use `newframe = frame.copy()`\n",
      "  sub_df[col] = 0\n",
      "/var/folders/4c/h16036bx2ync7wqkqvrl2p1h0000gn/T/ipykernel_66516/467898307.py:15: PerformanceWarning: DataFrame is highly fragmented.  This is usually the result of calling `frame.insert` many times, which has poor performance.  Consider joining all columns at once using pd.concat(axis=1) instead. To get a de-fragmented frame, use `newframe = frame.copy()`\n",
      "  sub_df[col] = 0\n",
      "/var/folders/4c/h16036bx2ync7wqkqvrl2p1h0000gn/T/ipykernel_66516/467898307.py:15: PerformanceWarning: DataFrame is highly fragmented.  This is usually the result of calling `frame.insert` many times, which has poor performance.  Consider joining all columns at once using pd.concat(axis=1) instead. To get a de-fragmented frame, use `newframe = frame.copy()`\n",
      "  sub_df[col] = 0\n",
      "/var/folders/4c/h16036bx2ync7wqkqvrl2p1h0000gn/T/ipykernel_66516/467898307.py:15: PerformanceWarning: DataFrame is highly fragmented.  This is usually the result of calling `frame.insert` many times, which has poor performance.  Consider joining all columns at once using pd.concat(axis=1) instead. To get a de-fragmented frame, use `newframe = frame.copy()`\n",
      "  sub_df[col] = 0\n",
      "/var/folders/4c/h16036bx2ync7wqkqvrl2p1h0000gn/T/ipykernel_66516/467898307.py:15: PerformanceWarning: DataFrame is highly fragmented.  This is usually the result of calling `frame.insert` many times, which has poor performance.  Consider joining all columns at once using pd.concat(axis=1) instead. To get a de-fragmented frame, use `newframe = frame.copy()`\n",
      "  sub_df[col] = 0\n",
      "/var/folders/4c/h16036bx2ync7wqkqvrl2p1h0000gn/T/ipykernel_66516/467898307.py:15: PerformanceWarning: DataFrame is highly fragmented.  This is usually the result of calling `frame.insert` many times, which has poor performance.  Consider joining all columns at once using pd.concat(axis=1) instead. To get a de-fragmented frame, use `newframe = frame.copy()`\n",
      "  sub_df[col] = 0\n",
      "/var/folders/4c/h16036bx2ync7wqkqvrl2p1h0000gn/T/ipykernel_66516/467898307.py:15: PerformanceWarning: DataFrame is highly fragmented.  This is usually the result of calling `frame.insert` many times, which has poor performance.  Consider joining all columns at once using pd.concat(axis=1) instead. To get a de-fragmented frame, use `newframe = frame.copy()`\n",
      "  sub_df[col] = 0\n",
      "/var/folders/4c/h16036bx2ync7wqkqvrl2p1h0000gn/T/ipykernel_66516/467898307.py:15: PerformanceWarning: DataFrame is highly fragmented.  This is usually the result of calling `frame.insert` many times, which has poor performance.  Consider joining all columns at once using pd.concat(axis=1) instead. To get a de-fragmented frame, use `newframe = frame.copy()`\n",
      "  sub_df[col] = 0\n"
     ]
    }
   ],
   "source": [
    "with suppress_output(): \n",
    "    model.fit(train.drop(columns='Target'),train['Target'])\n",
    "y_pred = model.predict_proba(test)\n",
    "y_pred = np.round(y_pred,2)\n",
    "mask = y_pred >= 0.9 #threshold\n",
    "y_pred[~mask] = 0\n",
    "class_labels = [f\"Target{i}\" for i in range(y_pred.shape[1])]  \n",
    "sub_df = pd.DataFrame(y_pred, columns=class_labels)\n",
    "sub_df['id'] = test_id\n",
    "sub_df = sub_df[['id'] + class_labels]\n",
    "\n",
    "all_target_labels = [f\"Target_{i}\" for i in range(125)] \n",
    "for col in all_target_labels:\n",
    "    if col not in sub_df.columns:\n",
    "        sub_df[col] = 0  \n",
    "sub_df.to_csv(f\"../submissions/submission{value}.csv\", index=False)"
   ]
  },
  {
   "cell_type": "code",
   "execution_count": null,
   "metadata": {},
   "outputs": [],
   "source": [
    "for col in sub_df.columns:\n",
    "    if (pd.to_numeric(sub_df[col], errors='coerce') > 0.0).any():\n",
    "        print('hell yeah, finally no zeros outputs')\n",
    "    else: \n",
    "        print('not your lucky day')\n",
    "        break"
   ]
  },
  {
   "cell_type": "code",
   "execution_count": null,
   "metadata": {},
   "outputs": [
    {
     "data": {
      "image/png": "[encoded data removed]",
      "text/plain": [
       "<Figure size 2000x600 with 1 Axes>"
      ]
     },
     "metadata": {},
     "output_type": "display_data"
    }
   ],
   "source": [
    "importances = model.feature_importances_\n",
    "names = model.feature_name_\n",
    "fi = pd.DataFrame({'Feature': names,\n",
    "                   'importances': importances})\n",
    "fi = fi.sort_values(by='importances', ascending=False)\n",
    "\n",
    "fi.plot(kind='bar', x='Feature', y='importances', legend=False, figsize=(20, 6))\n",
    "plt.title('Feature Importances')\n",
    "plt.xlabel('Features')\n",
    "plt.ylabel('Importance')\n",
    "plt.show()"
   ]
  },
  {
   "cell_type": "code",
   "execution_count": 12,
   "metadata": {},
   "outputs": [
    {
     "data": {
      "text/plain": [
       "Index(['REFLEC1', 'REFLEC2', 'REFLEC3', 'REFLEC4', 'REFLEC5', 'REFLEC6',\n",
       "       'REFLEC7', 'PCA1', 'PCA2', 'PCA3', 'NDVI1', 'NDVI2', 'NDVI3', 'NDVI4',\n",
       "       'ELEV1', 'PEND1', 'ILUM1', 'TOPOIND1', 'ROUGH1', 'TRI1', 'COFS1',\n",
       "       'TMPMAN1', 'TMPMAX1', 'TMPMIN1', 'TVARDAY1', 'PRECIPAN1', 'PRECIPWET1',\n",
       "       'PRECIPDRY1', 'PRECIPVAR1', 'MARTONNE1', 'LAT2', 'LON1', 'DOSEL1',\n",
       "       'VVR1', 'VHR1', 'VHVVR1', 'VVD1', 'VHD1', 'VHVVD1', 'MNDWI1', 'NDTI1',\n",
       "       'Target', 'lat_cluster', 'Spatial_Group'],\n",
       "      dtype='object')"
      ]
     },
     "execution_count": 12,
     "metadata": {},
     "output_type": "execute_result"
    }
   ],
   "source": [
    "train.columns"
   ]
  },
  {
   "cell_type": "code",
   "execution_count": null,
   "metadata": {},
   "outputs": [],
   "source": [
    "# try training the PCA features alone or without it. \n"
   ]
  }
 ],
 "metadata": {
  "kernelspec": {
   "display_name": "vegitiables",
   "language": "python",
   "name": "python3"
  },
  "language_info": {
   "codemirror_mode": {
    "name": "ipython",
    "version": 3
   },
   "file_extension": ".py",
   "mimetype": "text/x-python",
   "name": "python",
   "nbconvert_exporter": "python",
   "pygments_lexer": "ipython3",
   "version": "3.11.0"
  }
 },
 "nbformat": 4,
 "nbformat_minor": 2
}

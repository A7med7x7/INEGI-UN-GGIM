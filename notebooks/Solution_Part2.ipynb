{
  "cells": [
    {
      "cell_type": "markdown",
      "metadata": {},
      "source": [
        "# Importings"
      ]
    },
    {
      "cell_type": "code",
      "execution_count": null,
      "metadata": {},
      "outputs": [],
      "source": [
        "!pip install catboost"
      ]
    },
    {
      "cell_type": "code",
      "execution_count": null,
      "metadata": {
        "colab": {
          "base_uri": "https://localhost:8080/"
        },
        "id": "O3OFwu_JG0ca",
        "outputId": "e36a3e9b-77a5-4382-d4de-2c62f2d18b5f"
      },
      "outputs": [
        {
          "name": "stdout",
          "output_type": "stream",
          "text": [
            "Collecting catboost\n",
            "  Downloading catboost-1.2.7-cp310-cp310-manylinux2014_x86_64.whl.metadata (1.2 kB)\n",
            "Requirement already satisfied: graphviz in /usr/local/lib/python3.10/dist-packages (from catboost) (0.20.3)\n",
            "Requirement already satisfied: matplotlib in /usr/local/lib/python3.10/dist-packages (from catboost) (3.7.1)\n",
            "Requirement already satisfied: numpy<2.0,>=1.16.0 in /usr/local/lib/python3.10/dist-packages (from catboost) (1.26.4)\n",
            "Requirement already satisfied: pandas>=0.24 in /usr/local/lib/python3.10/dist-packages (from catboost) (2.1.4)\n",
            "Requirement already satisfied: scipy in /usr/local/lib/python3.10/dist-packages (from catboost) (1.13.1)\n",
            "Requirement already satisfied: plotly in /usr/local/lib/python3.10/dist-packages (from catboost) (5.24.1)\n",
            "Requirement already satisfied: six in /usr/local/lib/python3.10/dist-packages (from catboost) (1.16.0)\n",
            "Requirement already satisfied: python-dateutil>=2.8.2 in /usr/local/lib/python3.10/dist-packages (from pandas>=0.24->catboost) (2.8.2)\n",
            "Requirement already satisfied: pytz>=2020.1 in /usr/local/lib/python3.10/dist-packages (from pandas>=0.24->catboost) (2024.2)\n",
            "Requirement already satisfied: tzdata>=2022.1 in /usr/local/lib/python3.10/dist-packages (from pandas>=0.24->catboost) (2024.1)\n",
            "Requirement already satisfied: contourpy>=1.0.1 in /usr/local/lib/python3.10/dist-packages (from matplotlib->catboost) (1.3.0)\n",
            "Requirement already satisfied: cycler>=0.10 in /usr/local/lib/python3.10/dist-packages (from matplotlib->catboost) (0.12.1)\n",
            "Requirement already satisfied: fonttools>=4.22.0 in /usr/local/lib/python3.10/dist-packages (from matplotlib->catboost) (4.53.1)\n",
            "Requirement already satisfied: kiwisolver>=1.0.1 in /usr/local/lib/python3.10/dist-packages (from matplotlib->catboost) (1.4.7)\n",
            "Requirement already satisfied: packaging>=20.0 in /usr/local/lib/python3.10/dist-packages (from matplotlib->catboost) (24.1)\n",
            "Requirement already satisfied: pillow>=6.2.0 in /usr/local/lib/python3.10/dist-packages (from matplotlib->catboost) (10.4.0)\n",
            "Requirement already satisfied: pyparsing>=2.3.1 in /usr/local/lib/python3.10/dist-packages (from matplotlib->catboost) (3.1.4)\n",
            "Requirement already satisfied: tenacity>=6.2.0 in /usr/local/lib/python3.10/dist-packages (from plotly->catboost) (9.0.0)\n",
            "Downloading catboost-1.2.7-cp310-cp310-manylinux2014_x86_64.whl (98.7 MB)\n",
            "\u001b[2K   \u001b[90m━━━━━━━━━━━━━━━━━━━━━━━━━━━━━━━━━━━━━━━━\u001b[0m \u001b[32m98.7/98.7 MB\u001b[0m \u001b[31m4.9 MB/s\u001b[0m eta \u001b[36m0:00:00\u001b[0m\n",
            "\u001b[?25hInstalling collected packages: catboost\n",
            "Successfully installed catboost-1.2.7\n",
            "Requirement already satisfied: scikit-learn in /usr/local/lib/python3.10/dist-packages (1.5.2)\n",
            "Requirement already satisfied: numpy>=1.19.5 in /usr/local/lib/python3.10/dist-packages (from scikit-learn) (1.26.4)\n",
            "Requirement already satisfied: scipy>=1.6.0 in /usr/local/lib/python3.10/dist-packages (from scikit-learn) (1.13.1)\n",
            "Requirement already satisfied: joblib>=1.2.0 in /usr/local/lib/python3.10/dist-packages (from scikit-learn) (1.4.2)\n",
            "Requirement already satisfied: threadpoolctl>=3.1.0 in /usr/local/lib/python3.10/dist-packages (from scikit-learn) (3.5.0)\n"
          ]
        }
      ],
      "source": [
        "import numpy as np\n",
        "import pandas as pd\n",
        "import matplotlib.pyplot as plt\n",
        "import seaborn as sns\n",
        "import warnings\n",
        "warnings.filterwarnings('ignore')\n",
        "from sklearn.preprocessing import *\n",
        "from sklearn.metrics import log_loss, accuracy_score\n",
        "from sklearn.pipeline import Pipeline\n",
        "from sklearn.model_selection import RandomizedSearchCV\n",
        "from sklearn.inspection import permutation_importance\n",
        "from sklearn import set_config\n",
        "from sklearn.preprocessing import LabelEncoder\n",
        "from sklearn.base import BaseEstimator, TransformerMixin\n",
        "from sklearn.linear_model import LogisticRegression\n",
        "from sklearn.metrics import accuracy_score\n",
        "from sklearn.tree import DecisionTreeClassifier\n",
        "from sklearn.ensemble import RandomForestClassifier\n",
        "from sklearn.impute import SimpleImputer\n",
        "from sklearn.compose import ColumnTransformer\n",
        "from sklearn.pipeline import Pipeline\n",
        "from sklearn.decomposition import PCA\n",
        "from sklearn.metrics import log_loss\n",
        "\n",
        "from sklearn.metrics import accuracy_score\n",
        "from sklearn.ensemble import RandomForestClassifier\n",
        "from sklearn.ensemble import IsolationForest\n",
        "from sklearn.ensemble import BaggingClassifier\n",
        "from sklearn.model_selection import StratifiedKFold, cross_val_score\n",
        "from sklearn.ensemble import RandomForestClassifier\n",
        "from sklearn.metrics import log_loss, make_scorer\n",
        "from sklearn.model_selection import train_test_split\n",
        "from catboost import CatBoostClassifier\n"
      ]
    },
    {
      "cell_type": "code",
      "execution_count": null,
      "metadata": {
        "id": "-cXkbLxyqcKd"
      },
      "outputs": [],
      "source": [
        "def reading_data(path):\n",
        "    train = pd.read_csv(path + 'Train%20(6).csv')\n",
        "    test = pd.read_csv(path +'Test%20(4).csv')\n",
        "    sub = pd.read_csv(path +'submission%20(5).csv')\n",
        "    id = test['id']\n",
        "\n",
        "    return train,test,sub,id\n",
        "\n",
        "train,test,sub,id = reading_data(path='https://raw.githubusercontent.com/Asmaa6777/Vegetation-Mapping-/main/')\n",
        "\n",
        "X_train = train.copy()\n",
        "X_test = test.copy()\n",
        "X_test = test.drop('id', axis=1)\n",
        "X_train = X_train.drop('Target', axis=1)\n",
        "X_train = X_train.drop('id', axis=1)\n",
        "y_train = train['Target']\n"
      ]
    },
    {
      "cell_type": "markdown",
      "metadata": {},
      "source": [
        "# Proccessing Pipeline\n",
        "- isolation forest \n",
        "- "
      ]
    },
    {
      "cell_type": "code",
      "execution_count": null,
      "metadata": {
        "id": "M9EUt7GNqlBt"
      },
      "outputs": [],
      "source": [
        "isolation_forest = IsolationForest(contamination=0.1)  \n",
        "is_inlier = isolation_forest.fit_predict(X_train) \n",
        "\n",
        "# Keep only inliers\n",
        "X_train_cleaned = X_train[is_inlier == 1]\n",
        "y_train_cleaned = y_train[is_inlier == 1]"
      ]
    },
    {
      "cell_type": "code",
      "execution_count": null,
      "metadata": {
        "id": "GWnIzdKjsb4S"
      },
      "outputs": [],
      "source": [
        "num = Pipeline([\n",
        "    ('imp', SimpleImputer(strategy='median')),\n",
        "    ('scaler', StandardScaler()),\n",
        "    ('pca', PCA(n_components=0.95))\n",
        " ])\n",
        "cat = Pipeline([\n",
        "    ('imp', SimpleImputer(strategy='most_frequent')),\n",
        "    ('ohe', OneHotEncoder(handle_unknown='ignore'))\n",
        "])\n",
        "\n",
        "X_train_prepared = num.fit_transform(X_train_cleaned)\n",
        "X_train_prepared = cat.fit_transform(X_train_prepared)\n",
        "X_test_prepared = num.transform(X_test)\n",
        "X_test_prepared = cat.transform(X_test_prepared)"
      ]
    },
    {
      "cell_type": "code",
      "execution_count": null,
      "metadata": {
        "id": "3WiIsWrBnoOd"
      },
      "outputs": [],
      "source": [
        "X_train, X_valid, y_train, y_valid = train_test_split(\n",
        "    X_train_prepared , y_train_cleaned, test_size=0.2, random_state=42 )"
      ]
    },
    {
      "cell_type": "code",
      "execution_count": null,
      "metadata": {
        "colab": {
          "background_save": true,
          "base_uri": "https://localhost:8080/"
        },
        "id": "BhO6BFuhmvBK",
        "outputId": "bb527eb8-15a7-44a9-a124-05a94babf1ad"
      },
      "outputs": [
        {
          "name": "stdout",
          "output_type": "stream",
          "text": [
            "0:\tlearn: 3.7372573\ttest: 3.7395708\tbest: 3.7395708 (0)\ttotal: 2.56s\tremaining: 21m 20s\n",
            "100:\tlearn: 3.4007187\ttest: 3.4012757\tbest: 3.4012757 (100)\ttotal: 3m 10s\tremaining: 12m 30s\n",
            "200:\tlearn: 3.3900507\ttest: 3.3907650\tbest: 3.3907650 (200)\ttotal: 6m 7s\tremaining: 9m 6s\n",
            "300:\tlearn: 3.3793186\ttest: 3.3794833\tbest: 3.3794833 (300)\ttotal: 8m 58s\tremaining: 5m 56s\n",
            "400:\tlearn: 3.3685364\ttest: 3.3679097\tbest: 3.3679097 (400)\ttotal: 11m 47s\tremaining: 2m 54s\n",
            "499:\tlearn: 3.3580966\ttest: 3.3581326\tbest: 3.3581326 (499)\ttotal: 14m 34s\tremaining: 0us\n",
            "\n",
            "bestTest = 3.358132597\n",
            "bestIteration = 499\n",
            "\n"
          ]
        }
      ],
      "source": [
        "cat = CatBoostClassifier(iterations=500,\n",
        "                           learning_rate=0.1,\n",
        "                           depth=6,\n",
        "                           class_weights=[1] * 45, \n",
        "                           random_seed=42)\n",
        "\n",
        "cat_modle = cat.fit(X_train_prepared, y_train_cleaned, eval_set=(X_valid, y_valid), verbose=100)\n"
      ]
    },
    {
      "cell_type": "markdown",
      "metadata": {
        "id": "u2kRaUOzHS89"
      },
      "source": [
        "fix the val"
      ]
    },
    {
      "cell_type": "code",
      "execution_count": null,
      "metadata": {
        "colab": {
          "background_save": true
        },
        "id": "AXoqsFFBOxJ5",
        "outputId": "8947c47d-3d3f-404e-bbd7-d7f9b97420e9"
      },
      "outputs": [
        {
          "name": "stdout",
          "output_type": "stream",
          "text": [
            "Log Loss: 3.3580966386078246\n"
          ]
        }
      ],
      "source": [
        "pred = cat_modle.predict_proba(X_train_prepared)\n",
        "\n",
        "log_loss_value = log_loss(y_train_cleaned, pred)\n",
        "print(f\"Log Loss: {log_loss_value}\")"
      ]
    },
    {
      "cell_type": "code",
      "execution_count": null,
      "metadata": {
        "id": "QYt47LydIxPf"
      },
      "outputs": [],
      "source": [
        "y_pred_proba = cat.predict_proba(X_valid)  \n",
        "y_pred = cat.predict(X_valid)  \n",
        "\n",
        "y_pred = cat_modle.predict(X_test_prepared)\n",
        "y_pred_proba = cat_modle.predict_proba(X_test_prepared)"
      ]
    },
    {
      "cell_type": "code",
      "execution_count": null,
      "metadata": {
        "colab": {
          "base_uri": "https://localhost:8080/",
          "height": 472
        },
        "id": "z_vKNmSc9Pow",
        "outputId": "ea8eef24-bd73-4c58-92c1-0dbb71f5627c"
      },
      "outputs": [
        {
          "data": {
            "image/png": "[encoded data removed]",
            "text/plain": [
              "<Figure size 640x480 with 1 Axes>"
            ]
          },
          "metadata": {},
          "output_type": "display_data"
        }
      ],
      "source": [
        "import matplotlib.pyplot as plt\n",
        "\n",
        "plt.hist(y_pred_proba, bins=30)\n",
        "plt.title(\"Predictions Distribution\")\n",
        "plt.xlabel(\"Predicted Value\")\n",
        "plt.ylabel(\"Frequency\")\n",
        "plt.show()\n"
      ]
    },
    {
      "cell_type": "markdown",
      "metadata": {
        "id": "nqihO1TpvxrI"
      },
      "source": [
        "**Submission**"
      ]
    },
    {
      "cell_type": "code",
      "execution_count": null,
      "metadata": {
        "id": "r0c9ayFNoR57"
      },
      "outputs": [],
      "source": [
        "submission = pd.DataFrame({'id': id})\n",
        "columns = [f'Target_{i}' for i in range(125)]\n",
        "submission[columns] = 0.00001\n",
        "\n",
        "y_pred_proba = cat_modle.predict_proba(X_test_prepared)\n",
        "\n",
        "for i, class_label in enumerate(cat_modle.classes_):\n",
        "    submission['Target_' + str(class_label)] = y_pred_proba[:, i]\n",
        "\n",
        "submission.to_csv('../submissions/submission_part2.csv', index=False)"
      ]
    }
  ],
  "metadata": {
    "colab": {
      "provenance": []
    },
    "kernelspec": {
      "display_name": "Python 3",
      "name": "python3"
    },
    "language_info": {
      "name": "python",
      "version": "3.12.1"
    }
  },
  "nbformat": 4,
  "nbformat_minor": 0
}
